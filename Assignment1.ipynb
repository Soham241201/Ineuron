{
 "cells": [
  {
   "cell_type": "markdown",
   "id": "706f3417",
   "metadata": {},
   "source": [
    "1. -87.8 is an espression"
   ]
  },
  {
   "cell_type": "markdown",
   "id": "c7302e55",
   "metadata": {},
   "source": [
    "2. A Variable is a store of information, and a String is a type of information you would store in a Variable. A String is usually words, enclosed with \"\". "
   ]
  },
  {
   "cell_type": "markdown",
   "id": "5af20d56",
   "metadata": {},
   "source": [
    "3. Data Types \tExamples\t  Explanation\n",
    "    Integers\t  5364\t       Whole numbers\n",
    "\n",
    "     Floats\t     3.1415\t       Decimal Numbers\n",
    "\n",
    "     Booleans\t True, False    Truth values that represent Yes/No"
   ]
  },
  {
   "cell_type": "markdown",
   "id": "f7c2ded3",
   "metadata": {},
   "source": [
    "4. An expression is a construct made up of variables, operators, and method invocations, which are constructed according to the syntax of the language, that evaluates to a single value.\n",
    "\n",
    "    An expression results to a value of a particular data type. "
   ]
  },
  {
   "cell_type": "markdown",
   "id": "fe819523",
   "metadata": {},
   "source": [
    "5. An Expression always evaluates to a value. And, A statement does something, like creating a variable or displaying a value, it only does whatever the statement says."
   ]
  },
  {
   "cell_type": "markdown",
   "id": "70bce08f",
   "metadata": {},
   "source": [
    "6. 22"
   ]
  },
  {
   "cell_type": "markdown",
   "id": "27c64f32",
   "metadata": {},
   "source": [
    "7. Both the terms will return \"spamspamspam\"."
   ]
  },
  {
   "cell_type": "markdown",
   "id": "e5ec653f",
   "metadata": {},
   "source": [
    "8. Because in python variable name cannot begin with a number."
   ]
  },
  {
   "cell_type": "markdown",
   "id": "975d143e",
   "metadata": {},
   "source": [
    "9. The int() , float() , and str( ) functions will evaluate to the integer, floating-point number, and string versions of the value passed to them."
   ]
  },
  {
   "cell_type": "markdown",
   "id": "d465422a",
   "metadata": {},
   "source": [
    "10. This expression will cause an error because we are trying to concatinate an integer value with a string value. it can be sloved in the following way : \n",
    "    \"I have eaten \"+ \"99\" + \"burritos.\""
   ]
  }
 ],
 "metadata": {
  "kernelspec": {
   "display_name": "Python 3 (ipykernel)",
   "language": "python",
   "name": "python3"
  },
  "language_info": {
   "codemirror_mode": {
    "name": "ipython",
    "version": 3
   },
   "file_extension": ".py",
   "mimetype": "text/x-python",
   "name": "python",
   "nbconvert_exporter": "python",
   "pygments_lexer": "ipython3",
   "version": "3.10.4"
  }
 },
 "nbformat": 4,
 "nbformat_minor": 5
}
